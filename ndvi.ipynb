{
  "nbformat": 4,
  "nbformat_minor": 0,
  "metadata": {
    "colab": {
      "provenance": []
    },
    "kernelspec": {
      "name": "python3",
      "display_name": "Python 3"
    },
    "language_info": {
      "name": "python"
    }
  },
  "cells": [
    {
      "cell_type": "code",
      "execution_count": null,
      "metadata": {
        "id": "foRpH9oC4jZ7",
        "colab": {
          "base_uri": "https://localhost:8080/"
        },
        "outputId": "11688e36-2809-4d25-c1a8-ce737869afbd"
      },
      "outputs": [
        {
          "output_type": "stream",
          "name": "stdout",
          "text": [
            "Downloading from https://ndownloader.figshare.com/files/10960109\n",
            "Extracted output to /root/earth-analytics/data/cold-springs-fire/.\n"
          ]
        }
      ],
      "source": [
        "import os\n",
        "\n",
        "import matplotlib.pyplot as plt\n",
        "import numpy as np\n",
        "import rioxarray as rxr\n",
        "import geopandas as gpd\n",
        "import earthpy as et\n",
        "import earthpy.spatial as es\n",
        "import earthpy.plot as eptl\n",
        "from osgeo import gdal\n",
        "import rasterio\n",
        "import pandas as pd\n",
        "\n",
        "\n",
        "data = et.data.get_data('cold-springs-fire')\n",
        "os.chdir(os.path.join(et.io.HOME, 'earth-analytics', 'data'))"
      ]
    },
    {
      "cell_type": "code",
      "source": [
        "naip_data_path = os.path.join(\"cold-springs-fire\",\n",
        "                              \"naip\",\n",
        "                              \"m_3910505_nw_13_1_20150919\",\n",
        "                              \"crop\",\n",
        "                              \"m_3910505_nw_13_1_20150919_crop.tif\")\n",
        "\n",
        "naip_data = rxr.open_rasterio(naip_data_path)\n",
        "\n",
        "naip_data.shape"
      ],
      "metadata": {
        "colab": {
          "base_uri": "https://localhost:8080/"
        },
        "id": "nag6c18049QS",
        "outputId": "c4b04b64-af57-435f-f767-e5d1e9ef9954"
      },
      "execution_count": null,
      "outputs": [
        {
          "output_type": "execute_result",
          "data": {
            "text/plain": [
              "(4, 2312, 4377)"
            ]
          },
          "metadata": {},
          "execution_count": 9
        }
      ]
    },
    {
      "cell_type": "code",
      "source": [
        "band_nir_tif = \"/content/drive/MyDrive/CollabResources/Tiff/Photos/IMG_0005_4.tif\"\n",
        "band_red_tif = \"/content/drive/MyDrive/CollabResources/Tiff/Photos/IMG_0005_3.tif\"\n",
        "reflection = np.genfromtxt('/content/drive/MyDrive/CollabResources/Tiff/RP04-1923118-OB.csv', delimiter=',')"
      ],
      "metadata": {
        "id": "gvuWYuqi561u"
      },
      "execution_count": null,
      "outputs": []
    },
    {
      "cell_type": "code",
      "source": [
        "def tif_to_array(tif_path):\n",
        "    tif_dataset = gdal.Open(tif_path)\n",
        "    # print(tif_dataset)\n",
        "\n",
        "    raster_array = tif_dataset.ReadAsArray()\n",
        "\n",
        "    return raster_array"
      ],
      "metadata": {
        "id": "OX-zuepJEDjZ"
      },
      "execution_count": null,
      "outputs": []
    },
    {
      "cell_type": "code",
      "source": [
        "df = pd.read_csv('/content/drive/MyDrive/CollabResources/Tiff/RP04-1923118-OB.csv')\n",
        "\n",
        "reflectance_values = df.iloc[:, 1].values\n",
        "\n",
        "pixel_values = np.arange(250, 951)\n",
        "\n",
        "def calibrate_reflectance(pixel_values, reflectance_values, pixel_array):\n",
        "    # Linear interpolation\n",
        "    calibrated_reflectance = np.interp(pixel_array, pixel_values, reflectance_values)\n",
        "    return calibrated_reflectance"
      ],
      "metadata": {
        "id": "0BLw5x7wSra9"
      },
      "execution_count": null,
      "outputs": []
    },
    {
      "cell_type": "code",
      "source": [
        "nir_array = tif_to_array(band_nir_tif)\n",
        "red_array = tif_to_array(band_red_tif)\n",
        "# nir_array = nir_dataset.ReadAsArray()\n",
        "\n",
        "calibrated_nir = calibrate_reflectance(pixel_values, reflectance_values, nir_array)\n",
        "calibrated_red = calibrate_reflectance(pixel_values, reflectance_values, red_array)\n",
        "\n",
        "naip_ndvi = es.normalized_diff(nir_array, red_array)"
      ],
      "metadata": {
        "id": "9qRFp6cg5CHP",
        "colab": {
          "base_uri": "https://localhost:8080/",
          "height": 347
        },
        "outputId": "dc0d2ec3-2104-470e-e397-fe196cc7524d"
      },
      "execution_count": null,
      "outputs": [
        {
          "output_type": "error",
          "ename": "AttributeError",
          "evalue": "'NoneType' object has no attribute 'ReadAsArray'",
          "traceback": [
            "\u001b[0;31m---------------------------------------------------------------------------\u001b[0m",
            "\u001b[0;31mAttributeError\u001b[0m                            Traceback (most recent call last)",
            "\u001b[0;32m<ipython-input-13-a7352d847b16>\u001b[0m in \u001b[0;36m<cell line: 1>\u001b[0;34m()\u001b[0m\n\u001b[0;32m----> 1\u001b[0;31m \u001b[0mnir_array\u001b[0m \u001b[0;34m=\u001b[0m \u001b[0mtif_to_array\u001b[0m\u001b[0;34m(\u001b[0m\u001b[0mband_nir_tif\u001b[0m\u001b[0;34m)\u001b[0m\u001b[0;34m\u001b[0m\u001b[0;34m\u001b[0m\u001b[0m\n\u001b[0m\u001b[1;32m      2\u001b[0m \u001b[0mred_array\u001b[0m \u001b[0;34m=\u001b[0m \u001b[0mtif_to_array\u001b[0m\u001b[0;34m(\u001b[0m\u001b[0mband_red_tif\u001b[0m\u001b[0;34m)\u001b[0m\u001b[0;34m\u001b[0m\u001b[0;34m\u001b[0m\u001b[0m\n\u001b[1;32m      3\u001b[0m \u001b[0;31m# nir_array = nir_dataset.ReadAsArray()\u001b[0m\u001b[0;34m\u001b[0m\u001b[0;34m\u001b[0m\u001b[0m\n\u001b[1;32m      4\u001b[0m \u001b[0;34m\u001b[0m\u001b[0m\n\u001b[1;32m      5\u001b[0m \u001b[0mcalibrated_nir\u001b[0m \u001b[0;34m=\u001b[0m \u001b[0mcalibrate_reflectance\u001b[0m\u001b[0;34m(\u001b[0m\u001b[0mpixel_values\u001b[0m\u001b[0;34m,\u001b[0m \u001b[0mreflectance_values\u001b[0m\u001b[0;34m,\u001b[0m \u001b[0mnir_array\u001b[0m\u001b[0;34m)\u001b[0m\u001b[0;34m\u001b[0m\u001b[0;34m\u001b[0m\u001b[0m\n",
            "\u001b[0;32m<ipython-input-11-b352489cde94>\u001b[0m in \u001b[0;36mtif_to_array\u001b[0;34m(tif_path)\u001b[0m\n\u001b[1;32m      3\u001b[0m     \u001b[0;31m# print(tif_dataset)\u001b[0m\u001b[0;34m\u001b[0m\u001b[0;34m\u001b[0m\u001b[0m\n\u001b[1;32m      4\u001b[0m \u001b[0;34m\u001b[0m\u001b[0m\n\u001b[0;32m----> 5\u001b[0;31m     \u001b[0mraster_array\u001b[0m \u001b[0;34m=\u001b[0m \u001b[0mtif_dataset\u001b[0m\u001b[0;34m.\u001b[0m\u001b[0mReadAsArray\u001b[0m\u001b[0;34m(\u001b[0m\u001b[0;34m)\u001b[0m\u001b[0;34m\u001b[0m\u001b[0;34m\u001b[0m\u001b[0m\n\u001b[0m\u001b[1;32m      6\u001b[0m \u001b[0;34m\u001b[0m\u001b[0m\n\u001b[1;32m      7\u001b[0m     \u001b[0;32mreturn\u001b[0m \u001b[0mraster_array\u001b[0m\u001b[0;34m\u001b[0m\u001b[0;34m\u001b[0m\u001b[0m\n",
            "\u001b[0;31mAttributeError\u001b[0m: 'NoneType' object has no attribute 'ReadAsArray'"
          ]
        }
      ]
    },
    {
      "cell_type": "code",
      "source": [
        "ep.plot_bands(naip_ndvi,\n",
        "              cmap='PiYG',\n",
        "              scale=False,\n",
        "              vmin=-1, vmax=1,\n",
        "              title=\"Derived NDVI\")\n",
        "plt.show()"
      ],
      "metadata": {
        "colab": {
          "base_uri": "https://localhost:8080/",
          "height": 219
        },
        "id": "3bmVLyhd5FOW",
        "outputId": "13750ca9-9100-4351-9cd5-72e880739f09"
      },
      "execution_count": null,
      "outputs": [
        {
          "output_type": "error",
          "ename": "NameError",
          "evalue": "name 'ep' is not defined",
          "traceback": [
            "\u001b[0;31m---------------------------------------------------------------------------\u001b[0m",
            "\u001b[0;31mNameError\u001b[0m                                 Traceback (most recent call last)",
            "\u001b[0;32m<ipython-input-14-50ded38898d8>\u001b[0m in \u001b[0;36m<cell line: 1>\u001b[0;34m()\u001b[0m\n\u001b[0;32m----> 1\u001b[0;31m ep.plot_bands(naip_ndvi,\n\u001b[0m\u001b[1;32m      2\u001b[0m               \u001b[0mcmap\u001b[0m\u001b[0;34m=\u001b[0m\u001b[0;34m'PiYG'\u001b[0m\u001b[0;34m,\u001b[0m\u001b[0;34m\u001b[0m\u001b[0;34m\u001b[0m\u001b[0m\n\u001b[1;32m      3\u001b[0m               \u001b[0mscale\u001b[0m\u001b[0;34m=\u001b[0m\u001b[0;32mFalse\u001b[0m\u001b[0;34m,\u001b[0m\u001b[0;34m\u001b[0m\u001b[0;34m\u001b[0m\u001b[0m\n\u001b[1;32m      4\u001b[0m               \u001b[0mvmin\u001b[0m\u001b[0;34m=\u001b[0m\u001b[0;34m-\u001b[0m\u001b[0;36m1\u001b[0m\u001b[0;34m,\u001b[0m \u001b[0mvmax\u001b[0m\u001b[0;34m=\u001b[0m\u001b[0;36m1\u001b[0m\u001b[0;34m,\u001b[0m\u001b[0;34m\u001b[0m\u001b[0;34m\u001b[0m\u001b[0m\n\u001b[1;32m      5\u001b[0m               title=\"Derived NDVI\")\n",
            "\u001b[0;31mNameError\u001b[0m: name 'ep' is not defined"
          ]
        }
      ]
    },
    {
      "cell_type": "code",
      "source": [
        "print(naip_ndvi)\n",
        "# ep.hist(naip_ndvi,\n",
        "#         figsize=(12, 6),\n",
        "#         title=[\"NDVI: Distribution of pixels\\n NAIP 2015 Cold Springs fire site\"])\n",
        "\n",
        "# plt.show()"
      ],
      "metadata": {
        "colab": {
          "base_uri": "https://localhost:8080/"
        },
        "id": "awfXc0195Kbw",
        "outputId": "27bcfb78-802f-4527-e0e9-dc06fa27dc6e"
      },
      "execution_count": null,
      "outputs": [
        {
          "output_type": "stream",
          "name": "stdout",
          "text": [
            "[[0.0650730411686587 0.1394736842105263 0.16853932584269662 ...\n",
            "  0.6471399035148173 0.6281690140845071 0.6273551988834613]\n",
            " [0.10662824207492795 0.11587982832618025 0.1584852734922861 ...\n",
            "  0.6325385694249649 0.6238805970149254 0.6018882769472856]\n",
            " [0.08166409861325115 0.11411411411411411 0.09969788519637462 ...\n",
            "  0.580146460537022 0.5908720456397718 0.5902834008097166]\n",
            " ...\n",
            " [0.4524959742351047 0.45563139931740615 0.49829351535836175 ...\n",
            "  0.5656268393172454 0.5426170468187275 0.5283687943262412]\n",
            " [0.4266777133388567 0.4483306836248013 0.48026315789473684 ...\n",
            "  0.5614973262032086 0.5308938212357528 0.5205724508050089]\n",
            " [0.4768976897689769 0.500823723228995 0.47351263243683783 ...\n",
            "  0.5591016548463357 0.5104808877928483 0.5141651597347799]]\n"
          ]
        }
      ]
    },
    {
      "cell_type": "code",
      "source": [
        "type(naip_ndvi), naip_ndvi.dtype"
      ],
      "metadata": {
        "colab": {
          "base_uri": "https://localhost:8080/"
        },
        "id": "XHplY0r25N0n",
        "outputId": "82cfcadb-4f1c-4520-f082-94f1e74bf01e"
      },
      "execution_count": null,
      "outputs": [
        {
          "output_type": "execute_result",
          "data": {
            "text/plain": [
              "(xarray.core.dataarray.DataArray, dtype('float64'))"
            ]
          },
          "metadata": {},
          "execution_count": 8
        }
      ]
    },
    {
      "cell_type": "code",
      "source": [
        "naip_ndvi_outpath = os.path.join(\"cold-springs-fire\",\n",
        "                                 \"outputs\",\n",
        "                                 \"naip_ndvi.tif\")\n",
        "\n",
        "# Write your the ndvi raster object\n",
        "naip_ndvi.rio.to_raster(naip_ndvi_outpath)"
      ],
      "metadata": {
        "id": "QBGZiBcF5RGZ"
      },
      "execution_count": null,
      "outputs": []
    }
  ]
}